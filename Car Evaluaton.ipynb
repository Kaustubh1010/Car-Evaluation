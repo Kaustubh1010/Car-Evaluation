{
 "cells": [
  {
   "cell_type": "code",
   "execution_count": 1,
   "id": "070e7057",
   "metadata": {},
   "outputs": [],
   "source": [
    "import requests\n",
    "import pandas as pd\n",
    "import seaborn as sns\n",
    "import matplotlib.pyplot as plt"
   ]
  },
  {
   "cell_type": "markdown",
   "id": "aee70f25",
   "metadata": {},
   "source": [
    "# Web Scrapping"
   ]
  },
  {
   "cell_type": "markdown",
   "id": "54ea6a76",
   "metadata": {},
   "source": [
    "### 1.Using Pandas Method to get dataframe"
   ]
  },
  {
   "cell_type": "code",
   "execution_count": 2,
   "id": "6af1e79e",
   "metadata": {},
   "outputs": [
    {
     "data": {
      "text/html": [
       "<div>\n",
       "<style scoped>\n",
       "    .dataframe tbody tr th:only-of-type {\n",
       "        vertical-align: middle;\n",
       "    }\n",
       "\n",
       "    .dataframe tbody tr th {\n",
       "        vertical-align: top;\n",
       "    }\n",
       "\n",
       "    .dataframe thead th {\n",
       "        text-align: right;\n",
       "    }\n",
       "</style>\n",
       "<table border=\"1\" class=\"dataframe\">\n",
       "  <thead>\n",
       "    <tr style=\"text-align: right;\">\n",
       "      <th></th>\n",
       "      <th>buying</th>\n",
       "      <th>maintainance</th>\n",
       "      <th>doors</th>\n",
       "      <th>persons</th>\n",
       "      <th>lug_boot</th>\n",
       "      <th>safety</th>\n",
       "      <th>value</th>\n",
       "    </tr>\n",
       "  </thead>\n",
       "  <tbody>\n",
       "    <tr>\n",
       "      <th>0</th>\n",
       "      <td>vhigh</td>\n",
       "      <td>vhigh</td>\n",
       "      <td>2</td>\n",
       "      <td>2</td>\n",
       "      <td>small</td>\n",
       "      <td>low</td>\n",
       "      <td>unacc</td>\n",
       "    </tr>\n",
       "    <tr>\n",
       "      <th>1</th>\n",
       "      <td>vhigh</td>\n",
       "      <td>vhigh</td>\n",
       "      <td>2</td>\n",
       "      <td>2</td>\n",
       "      <td>small</td>\n",
       "      <td>med</td>\n",
       "      <td>unacc</td>\n",
       "    </tr>\n",
       "    <tr>\n",
       "      <th>2</th>\n",
       "      <td>vhigh</td>\n",
       "      <td>vhigh</td>\n",
       "      <td>2</td>\n",
       "      <td>2</td>\n",
       "      <td>small</td>\n",
       "      <td>high</td>\n",
       "      <td>unacc</td>\n",
       "    </tr>\n",
       "    <tr>\n",
       "      <th>3</th>\n",
       "      <td>vhigh</td>\n",
       "      <td>vhigh</td>\n",
       "      <td>2</td>\n",
       "      <td>2</td>\n",
       "      <td>med</td>\n",
       "      <td>low</td>\n",
       "      <td>unacc</td>\n",
       "    </tr>\n",
       "    <tr>\n",
       "      <th>4</th>\n",
       "      <td>vhigh</td>\n",
       "      <td>vhigh</td>\n",
       "      <td>2</td>\n",
       "      <td>2</td>\n",
       "      <td>med</td>\n",
       "      <td>med</td>\n",
       "      <td>unacc</td>\n",
       "    </tr>\n",
       "  </tbody>\n",
       "</table>\n",
       "</div>"
      ],
      "text/plain": [
       "  buying maintainance doors persons lug_boot safety  value\n",
       "0  vhigh        vhigh     2       2    small    low  unacc\n",
       "1  vhigh        vhigh     2       2    small    med  unacc\n",
       "2  vhigh        vhigh     2       2    small   high  unacc\n",
       "3  vhigh        vhigh     2       2      med    low  unacc\n",
       "4  vhigh        vhigh     2       2      med    med  unacc"
      ]
     },
     "execution_count": 2,
     "metadata": {},
     "output_type": "execute_result"
    }
   ],
   "source": [
    "\n",
    "df=pd.read_csv(\"https://archive.ics.uci.edu/ml/machine-learning-databases/car/car.data\",header=None,names=[\"buying\",\"maintainance\",\"doors\",\"persons\",\"lug_boot\",\"safety\",\"value\"])\n",
    "df.head()"
   ]
  },
  {
   "cell_type": "markdown",
   "id": "224abb4a",
   "metadata": {},
   "source": [
    "### 2.Using Requests module"
   ]
  },
  {
   "cell_type": "code",
   "execution_count": 3,
   "id": "bc5721e2",
   "metadata": {},
   "outputs": [],
   "source": [
    "#Scrapping the data in text format\n",
    "r=requests.get(\"https://archive.ics.uci.edu/ml/machine-learning-databases/car/car.data\").text"
   ]
  },
  {
   "cell_type": "code",
   "execution_count": 4,
   "id": "57a495f7",
   "metadata": {},
   "outputs": [
    {
     "data": {
      "text/plain": [
       "'vhigh,vhigh,2,2,small,low,unacc\\nvhigh,vhigh,2,2,small,med,unacc\\nvhigh,vhigh,2,2,small,high,unacc\\nvhigh,vhigh,2,2,med,low,unacc\\nvhigh,vhigh,2,2,med,med,unacc\\nvhigh,vhigh,2,2,med,high,unacc\\nvhigh,vhigh,2,2,big,low,unacc\\nvhigh,vhigh,2,2,big,med,unacc\\nvhigh,vhigh,2,2,big,high,unacc\\nvhigh,vhigh,2,4,small,low,unacc\\nvhigh,vhigh,2,4,small,med,unacc\\nvhigh,vhigh,2,4,small,high,unacc\\nvhigh,vhigh,2,4,med,low,unacc\\nvhigh,vhigh,2,4,med,med,unacc\\nvhigh,vhigh,2,4,med,high,unacc\\nvhigh,vhigh,2,4,big,low,unacc\\nvhigh,vhigh,2,4,big,med,unacc\\nvhigh,vhigh,2,4,big,high,unacc\\nvhigh,vhigh,2,more,small,low,unacc\\nvhigh,vhigh,2,more,small,med,unacc\\nvhigh,vhigh,2,more,small,high,unacc\\nvhigh,vhigh,2,more,med,low,unacc\\nvhigh,vhigh,2,more,med,med,unacc\\nvhigh,vhigh,2,more,med,high,unacc\\nvhigh,vhigh,2,more,big,low,unacc\\nvhigh,vhigh,2,more,big,med,unacc\\nvhigh,vhigh,2,more,big,high,unacc\\nvhigh,vhigh,3,2,small,low,unacc\\nvhigh,vhigh,3,2,small,med,unacc\\nvhigh,vhigh,3,2,small,high,unacc\\nvhigh,vhigh,3,2,med,low,unacc\\nvhigh,vhi'"
      ]
     },
     "execution_count": 4,
     "metadata": {},
     "output_type": "execute_result"
    }
   ],
   "source": [
    "r[:1000]"
   ]
  },
  {
   "cell_type": "code",
   "execution_count": 5,
   "id": "da964399",
   "metadata": {},
   "outputs": [],
   "source": [
    "lst=r.split() #getting list by using split method on text data"
   ]
  },
  {
   "cell_type": "code",
   "execution_count": 6,
   "id": "aba2b985",
   "metadata": {},
   "outputs": [
    {
     "data": {
      "text/plain": [
       "['vhigh,vhigh,2,2,small,low,unacc',\n",
       " 'vhigh,vhigh,2,2,small,med,unacc',\n",
       " 'vhigh,vhigh,2,2,small,high,unacc',\n",
       " 'vhigh,vhigh,2,2,med,low,unacc',\n",
       " 'vhigh,vhigh,2,2,med,med,unacc',\n",
       " 'vhigh,vhigh,2,2,med,high,unacc',\n",
       " 'vhigh,vhigh,2,2,big,low,unacc',\n",
       " 'vhigh,vhigh,2,2,big,med,unacc',\n",
       " 'vhigh,vhigh,2,2,big,high,unacc',\n",
       " 'vhigh,vhigh,2,4,small,low,unacc']"
      ]
     },
     "execution_count": 6,
     "metadata": {},
     "output_type": "execute_result"
    }
   ],
   "source": [
    "lst[:10]"
   ]
  },
  {
   "cell_type": "code",
   "execution_count": 7,
   "id": "abd783ef",
   "metadata": {},
   "outputs": [],
   "source": [
    "#getting list of each row inside a list to make dataframe\n",
    "\n",
    "l=[]\n",
    "for i in lst:\n",
    "    l.append(i.split())"
   ]
  },
  {
   "cell_type": "code",
   "execution_count": 8,
   "id": "17768463",
   "metadata": {},
   "outputs": [
    {
     "data": {
      "text/plain": [
       "[['vhigh,vhigh,2,2,small,low,unacc'],\n",
       " ['vhigh,vhigh,2,2,small,med,unacc'],\n",
       " ['vhigh,vhigh,2,2,small,high,unacc'],\n",
       " ['vhigh,vhigh,2,2,med,low,unacc'],\n",
       " ['vhigh,vhigh,2,2,med,med,unacc'],\n",
       " ['vhigh,vhigh,2,2,med,high,unacc'],\n",
       " ['vhigh,vhigh,2,2,big,low,unacc'],\n",
       " ['vhigh,vhigh,2,2,big,med,unacc'],\n",
       " ['vhigh,vhigh,2,2,big,high,unacc'],\n",
       " ['vhigh,vhigh,2,4,small,low,unacc']]"
      ]
     },
     "execution_count": 8,
     "metadata": {},
     "output_type": "execute_result"
    }
   ],
   "source": [
    "l[:10]"
   ]
  },
  {
   "cell_type": "code",
   "execution_count": 9,
   "id": "bf8fd543",
   "metadata": {},
   "outputs": [],
   "source": [
    "# Splitting string to get each value in list of rows\n",
    "rows=[]\n",
    "for i in l:\n",
    "    for j in i:\n",
    "        rows.append(j.split(\",\"))"
   ]
  },
  {
   "cell_type": "code",
   "execution_count": 10,
   "id": "6d00f3d8",
   "metadata": {},
   "outputs": [
    {
     "data": {
      "text/plain": [
       "[['vhigh', 'vhigh', '2', '2', 'small', 'low', 'unacc'],\n",
       " ['vhigh', 'vhigh', '2', '2', 'small', 'med', 'unacc'],\n",
       " ['vhigh', 'vhigh', '2', '2', 'small', 'high', 'unacc'],\n",
       " ['vhigh', 'vhigh', '2', '2', 'med', 'low', 'unacc'],\n",
       " ['vhigh', 'vhigh', '2', '2', 'med', 'med', 'unacc'],\n",
       " ['vhigh', 'vhigh', '2', '2', 'med', 'high', 'unacc'],\n",
       " ['vhigh', 'vhigh', '2', '2', 'big', 'low', 'unacc'],\n",
       " ['vhigh', 'vhigh', '2', '2', 'big', 'med', 'unacc'],\n",
       " ['vhigh', 'vhigh', '2', '2', 'big', 'high', 'unacc'],\n",
       " ['vhigh', 'vhigh', '2', '4', 'small', 'low', 'unacc']]"
      ]
     },
     "execution_count": 10,
     "metadata": {},
     "output_type": "execute_result"
    }
   ],
   "source": [
    "rows[:10]"
   ]
  },
  {
   "cell_type": "code",
   "execution_count": 11,
   "id": "55860ff0",
   "metadata": {},
   "outputs": [],
   "source": [
    "# making dataframe \n",
    "df=pd.DataFrame(rows,columns=[\"buying\",\"maintainance\",\"doors\",\"persons\",\"lug_boot\",\"safety\",\"value\"])"
   ]
  },
  {
   "cell_type": "code",
   "execution_count": 12,
   "id": "3635496a",
   "metadata": {},
   "outputs": [
    {
     "data": {
      "text/html": [
       "<div>\n",
       "<style scoped>\n",
       "    .dataframe tbody tr th:only-of-type {\n",
       "        vertical-align: middle;\n",
       "    }\n",
       "\n",
       "    .dataframe tbody tr th {\n",
       "        vertical-align: top;\n",
       "    }\n",
       "\n",
       "    .dataframe thead th {\n",
       "        text-align: right;\n",
       "    }\n",
       "</style>\n",
       "<table border=\"1\" class=\"dataframe\">\n",
       "  <thead>\n",
       "    <tr style=\"text-align: right;\">\n",
       "      <th></th>\n",
       "      <th>buying</th>\n",
       "      <th>maintainance</th>\n",
       "      <th>doors</th>\n",
       "      <th>persons</th>\n",
       "      <th>lug_boot</th>\n",
       "      <th>safety</th>\n",
       "      <th>value</th>\n",
       "    </tr>\n",
       "  </thead>\n",
       "  <tbody>\n",
       "    <tr>\n",
       "      <th>0</th>\n",
       "      <td>vhigh</td>\n",
       "      <td>vhigh</td>\n",
       "      <td>2</td>\n",
       "      <td>2</td>\n",
       "      <td>small</td>\n",
       "      <td>low</td>\n",
       "      <td>unacc</td>\n",
       "    </tr>\n",
       "    <tr>\n",
       "      <th>1</th>\n",
       "      <td>vhigh</td>\n",
       "      <td>vhigh</td>\n",
       "      <td>2</td>\n",
       "      <td>2</td>\n",
       "      <td>small</td>\n",
       "      <td>med</td>\n",
       "      <td>unacc</td>\n",
       "    </tr>\n",
       "    <tr>\n",
       "      <th>2</th>\n",
       "      <td>vhigh</td>\n",
       "      <td>vhigh</td>\n",
       "      <td>2</td>\n",
       "      <td>2</td>\n",
       "      <td>small</td>\n",
       "      <td>high</td>\n",
       "      <td>unacc</td>\n",
       "    </tr>\n",
       "    <tr>\n",
       "      <th>3</th>\n",
       "      <td>vhigh</td>\n",
       "      <td>vhigh</td>\n",
       "      <td>2</td>\n",
       "      <td>2</td>\n",
       "      <td>med</td>\n",
       "      <td>low</td>\n",
       "      <td>unacc</td>\n",
       "    </tr>\n",
       "    <tr>\n",
       "      <th>4</th>\n",
       "      <td>vhigh</td>\n",
       "      <td>vhigh</td>\n",
       "      <td>2</td>\n",
       "      <td>2</td>\n",
       "      <td>med</td>\n",
       "      <td>med</td>\n",
       "      <td>unacc</td>\n",
       "    </tr>\n",
       "  </tbody>\n",
       "</table>\n",
       "</div>"
      ],
      "text/plain": [
       "  buying maintainance doors persons lug_boot safety  value\n",
       "0  vhigh        vhigh     2       2    small    low  unacc\n",
       "1  vhigh        vhigh     2       2    small    med  unacc\n",
       "2  vhigh        vhigh     2       2    small   high  unacc\n",
       "3  vhigh        vhigh     2       2      med    low  unacc\n",
       "4  vhigh        vhigh     2       2      med    med  unacc"
      ]
     },
     "execution_count": 12,
     "metadata": {},
     "output_type": "execute_result"
    }
   ],
   "source": [
    "df.head()"
   ]
  },
  {
   "cell_type": "code",
   "execution_count": 13,
   "id": "8c5e9169",
   "metadata": {},
   "outputs": [],
   "source": [
    "# adding index column\n",
    "df[\"sr_no\"]=range(1,1729) "
   ]
  },
  {
   "cell_type": "code",
   "execution_count": 14,
   "id": "a13c0a85",
   "metadata": {},
   "outputs": [],
   "source": [
    "df.set_index(\"sr_no\",inplace=True)"
   ]
  },
  {
   "cell_type": "code",
   "execution_count": 15,
   "id": "6ae08c46",
   "metadata": {},
   "outputs": [
    {
     "data": {
      "text/html": [
       "<div>\n",
       "<style scoped>\n",
       "    .dataframe tbody tr th:only-of-type {\n",
       "        vertical-align: middle;\n",
       "    }\n",
       "\n",
       "    .dataframe tbody tr th {\n",
       "        vertical-align: top;\n",
       "    }\n",
       "\n",
       "    .dataframe thead th {\n",
       "        text-align: right;\n",
       "    }\n",
       "</style>\n",
       "<table border=\"1\" class=\"dataframe\">\n",
       "  <thead>\n",
       "    <tr style=\"text-align: right;\">\n",
       "      <th></th>\n",
       "      <th>buying</th>\n",
       "      <th>maintainance</th>\n",
       "      <th>doors</th>\n",
       "      <th>persons</th>\n",
       "      <th>lug_boot</th>\n",
       "      <th>safety</th>\n",
       "      <th>value</th>\n",
       "    </tr>\n",
       "    <tr>\n",
       "      <th>sr_no</th>\n",
       "      <th></th>\n",
       "      <th></th>\n",
       "      <th></th>\n",
       "      <th></th>\n",
       "      <th></th>\n",
       "      <th></th>\n",
       "      <th></th>\n",
       "    </tr>\n",
       "  </thead>\n",
       "  <tbody>\n",
       "    <tr>\n",
       "      <th>1</th>\n",
       "      <td>vhigh</td>\n",
       "      <td>vhigh</td>\n",
       "      <td>2</td>\n",
       "      <td>2</td>\n",
       "      <td>small</td>\n",
       "      <td>low</td>\n",
       "      <td>unacc</td>\n",
       "    </tr>\n",
       "    <tr>\n",
       "      <th>2</th>\n",
       "      <td>vhigh</td>\n",
       "      <td>vhigh</td>\n",
       "      <td>2</td>\n",
       "      <td>2</td>\n",
       "      <td>small</td>\n",
       "      <td>med</td>\n",
       "      <td>unacc</td>\n",
       "    </tr>\n",
       "    <tr>\n",
       "      <th>3</th>\n",
       "      <td>vhigh</td>\n",
       "      <td>vhigh</td>\n",
       "      <td>2</td>\n",
       "      <td>2</td>\n",
       "      <td>small</td>\n",
       "      <td>high</td>\n",
       "      <td>unacc</td>\n",
       "    </tr>\n",
       "    <tr>\n",
       "      <th>4</th>\n",
       "      <td>vhigh</td>\n",
       "      <td>vhigh</td>\n",
       "      <td>2</td>\n",
       "      <td>2</td>\n",
       "      <td>med</td>\n",
       "      <td>low</td>\n",
       "      <td>unacc</td>\n",
       "    </tr>\n",
       "    <tr>\n",
       "      <th>5</th>\n",
       "      <td>vhigh</td>\n",
       "      <td>vhigh</td>\n",
       "      <td>2</td>\n",
       "      <td>2</td>\n",
       "      <td>med</td>\n",
       "      <td>med</td>\n",
       "      <td>unacc</td>\n",
       "    </tr>\n",
       "  </tbody>\n",
       "</table>\n",
       "</div>"
      ],
      "text/plain": [
       "      buying maintainance doors persons lug_boot safety  value\n",
       "sr_no                                                         \n",
       "1      vhigh        vhigh     2       2    small    low  unacc\n",
       "2      vhigh        vhigh     2       2    small    med  unacc\n",
       "3      vhigh        vhigh     2       2    small   high  unacc\n",
       "4      vhigh        vhigh     2       2      med    low  unacc\n",
       "5      vhigh        vhigh     2       2      med    med  unacc"
      ]
     },
     "execution_count": 15,
     "metadata": {},
     "output_type": "execute_result"
    }
   ],
   "source": [
    "# Seeing first five data\n",
    "df.head()"
   ]
  },
  {
   "cell_type": "code",
   "execution_count": 16,
   "id": "0d1d6ff0",
   "metadata": {},
   "outputs": [],
   "source": [
    "#converting DataFrame to csv\n",
    "#pd.to_csv(\"Car_Evaluation.csv\")"
   ]
  },
  {
   "cell_type": "markdown",
   "id": "0dbb975d",
   "metadata": {},
   "source": [
    "# Data Analysis And Visualisation"
   ]
  },
  {
   "cell_type": "code",
   "execution_count": 17,
   "id": "9bf987dc",
   "metadata": {},
   "outputs": [
    {
     "name": "stdout",
     "output_type": "stream",
     "text": [
      "<class 'pandas.core.frame.DataFrame'>\n",
      "Int64Index: 1728 entries, 1 to 1728\n",
      "Data columns (total 7 columns):\n",
      " #   Column        Non-Null Count  Dtype \n",
      "---  ------        --------------  ----- \n",
      " 0   buying        1728 non-null   object\n",
      " 1   maintainance  1728 non-null   object\n",
      " 2   doors         1728 non-null   object\n",
      " 3   persons       1728 non-null   object\n",
      " 4   lug_boot      1728 non-null   object\n",
      " 5   safety        1728 non-null   object\n",
      " 6   value         1728 non-null   object\n",
      "dtypes: object(7)\n",
      "memory usage: 108.0+ KB\n"
     ]
    }
   ],
   "source": [
    "# Information of the file\n",
    "df.info()"
   ]
  },
  {
   "cell_type": "code",
   "execution_count": 18,
   "id": "70b79fa7",
   "metadata": {},
   "outputs": [
    {
     "data": {
      "text/html": [
       "<div>\n",
       "<style scoped>\n",
       "    .dataframe tbody tr th:only-of-type {\n",
       "        vertical-align: middle;\n",
       "    }\n",
       "\n",
       "    .dataframe tbody tr th {\n",
       "        vertical-align: top;\n",
       "    }\n",
       "\n",
       "    .dataframe thead th {\n",
       "        text-align: right;\n",
       "    }\n",
       "</style>\n",
       "<table border=\"1\" class=\"dataframe\">\n",
       "  <thead>\n",
       "    <tr style=\"text-align: right;\">\n",
       "      <th></th>\n",
       "      <th>buying</th>\n",
       "      <th>maintainance</th>\n",
       "      <th>doors</th>\n",
       "      <th>persons</th>\n",
       "      <th>lug_boot</th>\n",
       "      <th>safety</th>\n",
       "      <th>value</th>\n",
       "    </tr>\n",
       "  </thead>\n",
       "  <tbody>\n",
       "    <tr>\n",
       "      <th>count</th>\n",
       "      <td>1728</td>\n",
       "      <td>1728</td>\n",
       "      <td>1728</td>\n",
       "      <td>1728</td>\n",
       "      <td>1728</td>\n",
       "      <td>1728</td>\n",
       "      <td>1728</td>\n",
       "    </tr>\n",
       "    <tr>\n",
       "      <th>unique</th>\n",
       "      <td>4</td>\n",
       "      <td>4</td>\n",
       "      <td>4</td>\n",
       "      <td>3</td>\n",
       "      <td>3</td>\n",
       "      <td>3</td>\n",
       "      <td>4</td>\n",
       "    </tr>\n",
       "    <tr>\n",
       "      <th>top</th>\n",
       "      <td>med</td>\n",
       "      <td>med</td>\n",
       "      <td>3</td>\n",
       "      <td>2</td>\n",
       "      <td>med</td>\n",
       "      <td>med</td>\n",
       "      <td>unacc</td>\n",
       "    </tr>\n",
       "    <tr>\n",
       "      <th>freq</th>\n",
       "      <td>432</td>\n",
       "      <td>432</td>\n",
       "      <td>432</td>\n",
       "      <td>576</td>\n",
       "      <td>576</td>\n",
       "      <td>576</td>\n",
       "      <td>1210</td>\n",
       "    </tr>\n",
       "  </tbody>\n",
       "</table>\n",
       "</div>"
      ],
      "text/plain": [
       "       buying maintainance doors persons lug_boot safety  value\n",
       "count    1728         1728  1728    1728     1728   1728   1728\n",
       "unique      4            4     4       3        3      3      4\n",
       "top       med          med     3       2      med    med  unacc\n",
       "freq      432          432   432     576      576    576   1210"
      ]
     },
     "execution_count": 18,
     "metadata": {},
     "output_type": "execute_result"
    }
   ],
   "source": [
    "# Description of the file\n",
    "df.describe(include=\"object\")"
   ]
  },
  {
   "cell_type": "code",
   "execution_count": 19,
   "id": "0cb2c1de",
   "metadata": {},
   "outputs": [
    {
     "data": {
      "text/plain": [
       "buying          0\n",
       "maintainance    0\n",
       "doors           0\n",
       "persons         0\n",
       "lug_boot        0\n",
       "safety          0\n",
       "value           0\n",
       "dtype: int64"
      ]
     },
     "execution_count": 19,
     "metadata": {},
     "output_type": "execute_result"
    }
   ],
   "source": [
    "# Viewing null values\n",
    "df.isnull().sum()"
   ]
  },
  {
   "cell_type": "markdown",
   "id": "f12afedd",
   "metadata": {},
   "source": [
    "### Seeing the unique values of each columns"
   ]
  },
  {
   "cell_type": "code",
   "execution_count": 20,
   "id": "4261963c",
   "metadata": {},
   "outputs": [
    {
     "data": {
      "text/plain": [
       "array(['vhigh', 'high', 'med', 'low'], dtype=object)"
      ]
     },
     "execution_count": 20,
     "metadata": {},
     "output_type": "execute_result"
    }
   ],
   "source": [
    "df.buying.unique()"
   ]
  },
  {
   "cell_type": "code",
   "execution_count": 21,
   "id": "548af8de",
   "metadata": {},
   "outputs": [
    {
     "data": {
      "text/plain": [
       "array(['vhigh', 'high', 'med', 'low'], dtype=object)"
      ]
     },
     "execution_count": 21,
     "metadata": {},
     "output_type": "execute_result"
    }
   ],
   "source": [
    "df.maintainance.unique()"
   ]
  },
  {
   "cell_type": "code",
   "execution_count": 22,
   "id": "8dfb9603",
   "metadata": {},
   "outputs": [
    {
     "data": {
      "text/plain": [
       "array(['2', '3', '4', '5more'], dtype=object)"
      ]
     },
     "execution_count": 22,
     "metadata": {},
     "output_type": "execute_result"
    }
   ],
   "source": [
    "df.doors.unique()"
   ]
  },
  {
   "cell_type": "code",
   "execution_count": 23,
   "id": "65597084",
   "metadata": {},
   "outputs": [
    {
     "data": {
      "text/plain": [
       "array(['small', 'med', 'big'], dtype=object)"
      ]
     },
     "execution_count": 23,
     "metadata": {},
     "output_type": "execute_result"
    }
   ],
   "source": [
    "df.lug_boot.unique()"
   ]
  },
  {
   "cell_type": "code",
   "execution_count": 24,
   "id": "d45408b2",
   "metadata": {},
   "outputs": [
    {
     "data": {
      "text/plain": [
       "array(['low', 'med', 'high'], dtype=object)"
      ]
     },
     "execution_count": 24,
     "metadata": {},
     "output_type": "execute_result"
    }
   ],
   "source": [
    "df.safety.unique()"
   ]
  },
  {
   "cell_type": "code",
   "execution_count": 25,
   "id": "93104823",
   "metadata": {},
   "outputs": [
    {
     "data": {
      "text/plain": [
       "array(['unacc', 'acc', 'vgood', 'good'], dtype=object)"
      ]
     },
     "execution_count": 25,
     "metadata": {},
     "output_type": "execute_result"
    }
   ],
   "source": [
    "df.value.unique()"
   ]
  },
  {
   "cell_type": "markdown",
   "id": "98bed5ba",
   "metadata": {},
   "source": [
    "### Car acceptance value counts"
   ]
  },
  {
   "cell_type": "code",
   "execution_count": 26,
   "id": "61b031ac",
   "metadata": {},
   "outputs": [
    {
     "data": {
      "text/plain": [
       "unacc    1210\n",
       "acc       384\n",
       "good       69\n",
       "vgood      65\n",
       "Name: value, dtype: int64"
      ]
     },
     "execution_count": 26,
     "metadata": {},
     "output_type": "execute_result"
    }
   ],
   "source": [
    "df.value.value_counts()"
   ]
  },
  {
   "cell_type": "markdown",
   "id": "c4e388b4",
   "metadata": {},
   "source": [
    "### Graphical representation of car acceptance value count"
   ]
  },
  {
   "cell_type": "code",
   "execution_count": 27,
   "id": "57b3756e",
   "metadata": {},
   "outputs": [
    {
     "data": {
      "image/png": "[encoded data removed]",
      "text/plain": [
       "<Figure size 432x288 with 1 Axes>"
      ]
     },
     "metadata": {
      "needs_background": "light"
     },
     "output_type": "display_data"
    }
   ],
   "source": [
    "df.value.value_counts().plot(kind=\"bar\")\n",
    "plt.title(\"Acceptability counts\",color=\"r\")\n",
    "plt.xlabel(\"Value\")\n",
    "plt.ylabel(\"Count\")\n",
    "plt.grid(True)"
   ]
  },
  {
   "cell_type": "markdown",
   "id": "207a3f4d",
   "metadata": {},
   "source": [
    "### Representation of very good value of acceptance on pie plot"
   ]
  },
  {
   "cell_type": "code",
   "execution_count": 28,
   "id": "a85486d7",
   "metadata": {},
   "outputs": [
    {
     "data": {
      "image/png": "[encoded data removed]",
      "text/plain": [
       "<Figure size 432x288 with 1 Axes>"
      ]
     },
     "metadata": {},
     "output_type": "display_data"
    }
   ],
   "source": [
    "df.value.value_counts().plot(kind=\"pie\",autopct=\"%1.2f%%\",explode=(0,0,0,0.2))\n",
    "plt.title(\"Acceptability count\",color=\"r\")\n",
    "plt.show()"
   ]
  },
  {
   "cell_type": "markdown",
   "id": "1d8763df",
   "metadata": {},
   "source": [
    "### Here we can see maximum cars are unacceptable"
   ]
  },
  {
   "cell_type": "code",
   "execution_count": 29,
   "id": "829795e6",
   "metadata": {},
   "outputs": [
    {
     "data": {
      "text/plain": [
       "'unacc'"
      ]
     },
     "execution_count": 29,
     "metadata": {},
     "output_type": "execute_result"
    }
   ],
   "source": [
    "df.value.value_counts().idxmax()"
   ]
  },
  {
   "cell_type": "markdown",
   "id": "c24adcd3",
   "metadata": {},
   "source": [
    "### Here we can see minimum cars have very good value of acceptance"
   ]
  },
  {
   "cell_type": "code",
   "execution_count": 30,
   "id": "564a7eb7",
   "metadata": {
    "scrolled": true
   },
   "outputs": [
    {
     "data": {
      "text/plain": [
       "'vgood'"
      ]
     },
     "execution_count": 30,
     "metadata": {},
     "output_type": "execute_result"
    }
   ],
   "source": [
    "df.value.value_counts().idxmin()"
   ]
  },
  {
   "cell_type": "markdown",
   "id": "5b140c8e",
   "metadata": {},
   "source": [
    "### 518 cars are accepted and 1210 cars are unaccepted"
   ]
  },
  {
   "cell_type": "code",
   "execution_count": 31,
   "id": "75568ba4",
   "metadata": {},
   "outputs": [
    {
     "data": {
      "text/plain": [
       "518"
      ]
     },
     "execution_count": 31,
     "metadata": {},
     "output_type": "execute_result"
    }
   ],
   "source": [
    "df[(df.value==\"vgood\")|(df.value==\"good\")|(df.value==\"acc\")][\"value\"].count()"
   ]
  },
  {
   "cell_type": "code",
   "execution_count": 32,
   "id": "1a8db9ba",
   "metadata": {},
   "outputs": [
    {
     "data": {
      "text/plain": [
       "1210"
      ]
     },
     "execution_count": 32,
     "metadata": {},
     "output_type": "execute_result"
    }
   ],
   "source": [
    "df[(df.value==\"unacc\")][\"value\"].count()"
   ]
  },
  {
   "cell_type": "markdown",
   "id": "b514b465",
   "metadata": {},
   "source": [
    "### graph of value with respect to safety"
   ]
  },
  {
   "cell_type": "code",
   "execution_count": 33,
   "id": "4bf5c3bc",
   "metadata": {},
   "outputs": [
    {
     "data": {
      "image/png": "[encoded data removed]",
      "text/plain": [
       "<Figure size 432x288 with 1 Axes>"
      ]
     },
     "metadata": {
      "needs_background": "light"
     },
     "output_type": "display_data"
    }
   ],
   "source": [
    "sns.countplot(data=df,x=df[\"value\"],hue=df[\"safety\"])\n",
    "plt.title(\"Value vs Safety\",color=\"r\")\n",
    "plt.show()"
   ]
  },
  {
   "cell_type": "markdown",
   "id": "eec1ae6d",
   "metadata": {},
   "source": [
    "### Grouping by value with respect to all columns"
   ]
  },
  {
   "cell_type": "code",
   "execution_count": 34,
   "id": "e47670ba",
   "metadata": {},
   "outputs": [
    {
     "data": {
      "text/html": [
       "<div>\n",
       "<style scoped>\n",
       "    .dataframe tbody tr th:only-of-type {\n",
       "        vertical-align: middle;\n",
       "    }\n",
       "\n",
       "    .dataframe tbody tr th {\n",
       "        vertical-align: top;\n",
       "    }\n",
       "\n",
       "    .dataframe thead tr th {\n",
       "        text-align: left;\n",
       "    }\n",
       "\n",
       "    .dataframe thead tr:last-of-type th {\n",
       "        text-align: right;\n",
       "    }\n",
       "</style>\n",
       "<table border=\"1\" class=\"dataframe\">\n",
       "  <thead>\n",
       "    <tr>\n",
       "      <th></th>\n",
       "      <th colspan=\"4\" halign=\"left\">buying</th>\n",
       "      <th colspan=\"4\" halign=\"left\">maintainance</th>\n",
       "      <th colspan=\"2\" halign=\"left\">doors</th>\n",
       "      <th>...</th>\n",
       "      <th colspan=\"2\" halign=\"left\">persons</th>\n",
       "      <th colspan=\"4\" halign=\"left\">lug_boot</th>\n",
       "      <th colspan=\"4\" halign=\"left\">safety</th>\n",
       "    </tr>\n",
       "    <tr>\n",
       "      <th></th>\n",
       "      <th>count</th>\n",
       "      <th>unique</th>\n",
       "      <th>top</th>\n",
       "      <th>freq</th>\n",
       "      <th>count</th>\n",
       "      <th>unique</th>\n",
       "      <th>top</th>\n",
       "      <th>freq</th>\n",
       "      <th>count</th>\n",
       "      <th>unique</th>\n",
       "      <th>...</th>\n",
       "      <th>top</th>\n",
       "      <th>freq</th>\n",
       "      <th>count</th>\n",
       "      <th>unique</th>\n",
       "      <th>top</th>\n",
       "      <th>freq</th>\n",
       "      <th>count</th>\n",
       "      <th>unique</th>\n",
       "      <th>top</th>\n",
       "      <th>freq</th>\n",
       "    </tr>\n",
       "    <tr>\n",
       "      <th>value</th>\n",
       "      <th></th>\n",
       "      <th></th>\n",
       "      <th></th>\n",
       "      <th></th>\n",
       "      <th></th>\n",
       "      <th></th>\n",
       "      <th></th>\n",
       "      <th></th>\n",
       "      <th></th>\n",
       "      <th></th>\n",
       "      <th></th>\n",
       "      <th></th>\n",
       "      <th></th>\n",
       "      <th></th>\n",
       "      <th></th>\n",
       "      <th></th>\n",
       "      <th></th>\n",
       "      <th></th>\n",
       "      <th></th>\n",
       "      <th></th>\n",
       "      <th></th>\n",
       "    </tr>\n",
       "  </thead>\n",
       "  <tbody>\n",
       "    <tr>\n",
       "      <th>acc</th>\n",
       "      <td>384</td>\n",
       "      <td>4</td>\n",
       "      <td>med</td>\n",
       "      <td>115</td>\n",
       "      <td>384</td>\n",
       "      <td>4</td>\n",
       "      <td>med</td>\n",
       "      <td>115</td>\n",
       "      <td>384</td>\n",
       "      <td>4</td>\n",
       "      <td>...</td>\n",
       "      <td>4</td>\n",
       "      <td>198</td>\n",
       "      <td>384</td>\n",
       "      <td>3</td>\n",
       "      <td>big</td>\n",
       "      <td>144</td>\n",
       "      <td>384</td>\n",
       "      <td>2</td>\n",
       "      <td>high</td>\n",
       "      <td>204</td>\n",
       "    </tr>\n",
       "    <tr>\n",
       "      <th>good</th>\n",
       "      <td>69</td>\n",
       "      <td>2</td>\n",
       "      <td>low</td>\n",
       "      <td>46</td>\n",
       "      <td>69</td>\n",
       "      <td>2</td>\n",
       "      <td>low</td>\n",
       "      <td>46</td>\n",
       "      <td>69</td>\n",
       "      <td>4</td>\n",
       "      <td>...</td>\n",
       "      <td>4</td>\n",
       "      <td>36</td>\n",
       "      <td>69</td>\n",
       "      <td>3</td>\n",
       "      <td>big</td>\n",
       "      <td>24</td>\n",
       "      <td>69</td>\n",
       "      <td>2</td>\n",
       "      <td>med</td>\n",
       "      <td>39</td>\n",
       "    </tr>\n",
       "    <tr>\n",
       "      <th>unacc</th>\n",
       "      <td>1210</td>\n",
       "      <td>4</td>\n",
       "      <td>vhigh</td>\n",
       "      <td>360</td>\n",
       "      <td>1210</td>\n",
       "      <td>4</td>\n",
       "      <td>vhigh</td>\n",
       "      <td>360</td>\n",
       "      <td>1210</td>\n",
       "      <td>4</td>\n",
       "      <td>...</td>\n",
       "      <td>2</td>\n",
       "      <td>576</td>\n",
       "      <td>1210</td>\n",
       "      <td>3</td>\n",
       "      <td>small</td>\n",
       "      <td>450</td>\n",
       "      <td>1210</td>\n",
       "      <td>3</td>\n",
       "      <td>low</td>\n",
       "      <td>576</td>\n",
       "    </tr>\n",
       "    <tr>\n",
       "      <th>vgood</th>\n",
       "      <td>65</td>\n",
       "      <td>2</td>\n",
       "      <td>low</td>\n",
       "      <td>39</td>\n",
       "      <td>65</td>\n",
       "      <td>3</td>\n",
       "      <td>low</td>\n",
       "      <td>26</td>\n",
       "      <td>65</td>\n",
       "      <td>4</td>\n",
       "      <td>...</td>\n",
       "      <td>more</td>\n",
       "      <td>35</td>\n",
       "      <td>65</td>\n",
       "      <td>2</td>\n",
       "      <td>big</td>\n",
       "      <td>40</td>\n",
       "      <td>65</td>\n",
       "      <td>1</td>\n",
       "      <td>high</td>\n",
       "      <td>65</td>\n",
       "    </tr>\n",
       "  </tbody>\n",
       "</table>\n",
       "<p>4 rows × 24 columns</p>\n",
       "</div>"
      ],
      "text/plain": [
       "      buying                    maintainance                    doors         \\\n",
       "       count unique    top freq        count unique    top freq count unique   \n",
       "value                                                                          \n",
       "acc      384      4    med  115          384      4    med  115   384      4   \n",
       "good      69      2    low   46           69      2    low   46    69      4   \n",
       "unacc   1210      4  vhigh  360         1210      4  vhigh  360  1210      4   \n",
       "vgood     65      2    low   39           65      3    low   26    65      4   \n",
       "\n",
       "       ... persons      lug_boot                    safety                    \n",
       "       ...     top freq    count unique    top freq  count unique   top freq  \n",
       "value  ...                                                                    \n",
       "acc    ...       4  198      384      3    big  144    384      2  high  204  \n",
       "good   ...       4   36       69      3    big   24     69      2   med   39  \n",
       "unacc  ...       2  576     1210      3  small  450   1210      3   low  576  \n",
       "vgood  ...    more   35       65      2    big   40     65      1  high   65  \n",
       "\n",
       "[4 rows x 24 columns]"
      ]
     },
     "execution_count": 34,
     "metadata": {},
     "output_type": "execute_result"
    }
   ],
   "source": [
    "df.groupby(\"value\").describe()"
   ]
  },
  {
   "cell_type": "code",
   "execution_count": 35,
   "id": "aa5931d4",
   "metadata": {},
   "outputs": [
    {
     "data": {
      "text/plain": [
       "value  buying\n",
       "acc    med       115\n",
       "       high      108\n",
       "       low        89\n",
       "       vhigh      72\n",
       "good   low        46\n",
       "       med        23\n",
       "unacc  vhigh     360\n",
       "       high      324\n",
       "       med       268\n",
       "       low       258\n",
       "vgood  low        39\n",
       "       med        26\n",
       "Name: buying, dtype: int64"
      ]
     },
     "execution_count": 35,
     "metadata": {},
     "output_type": "execute_result"
    }
   ],
   "source": [
    "df.groupby(\"value\")[\"buying\"].value_counts()"
   ]
  },
  {
   "cell_type": "code",
   "execution_count": 36,
   "id": "273fb871",
   "metadata": {},
   "outputs": [
    {
     "data": {
      "text/plain": [
       "value  maintainance\n",
       "acc    med             115\n",
       "       high            105\n",
       "       low              92\n",
       "       vhigh            72\n",
       "good   low              46\n",
       "       med              23\n",
       "unacc  vhigh           360\n",
       "       high            314\n",
       "       low             268\n",
       "       med             268\n",
       "vgood  low              26\n",
       "       med              26\n",
       "       high             13\n",
       "Name: maintainance, dtype: int64"
      ]
     },
     "execution_count": 36,
     "metadata": {},
     "output_type": "execute_result"
    }
   ],
   "source": [
    "df.groupby(\"value\")[\"maintainance\"].value_counts()"
   ]
  },
  {
   "cell_type": "code",
   "execution_count": 37,
   "id": "e6532834",
   "metadata": {},
   "outputs": [
    {
     "data": {
      "text/plain": [
       "value  doors\n",
       "acc    4        102\n",
       "       5more    102\n",
       "       3         99\n",
       "       2         81\n",
       "good   3         18\n",
       "       4         18\n",
       "       5more     18\n",
       "       2         15\n",
       "unacc  2        326\n",
       "       3        300\n",
       "       4        292\n",
       "       5more    292\n",
       "vgood  4         20\n",
       "       5more     20\n",
       "       3         15\n",
       "       2         10\n",
       "Name: doors, dtype: int64"
      ]
     },
     "execution_count": 37,
     "metadata": {},
     "output_type": "execute_result"
    }
   ],
   "source": [
    "df.groupby(\"value\")[\"doors\"].value_counts()"
   ]
  },
  {
   "cell_type": "code",
   "execution_count": 38,
   "id": "c1a3c612",
   "metadata": {},
   "outputs": [
    {
     "data": {
      "text/plain": [
       "value  persons\n",
       "acc    4          198\n",
       "       more       186\n",
       "good   4           36\n",
       "       more        33\n",
       "unacc  2          576\n",
       "       more       322\n",
       "       4          312\n",
       "vgood  more        35\n",
       "       4           30\n",
       "Name: persons, dtype: int64"
      ]
     },
     "execution_count": 38,
     "metadata": {},
     "output_type": "execute_result"
    }
   ],
   "source": [
    "df.groupby(\"value\")[\"persons\"].value_counts()"
   ]
  },
  {
   "cell_type": "code",
   "execution_count": 39,
   "id": "79a09917",
   "metadata": {},
   "outputs": [
    {
     "data": {
      "text/plain": [
       "value  lug_boot\n",
       "acc    big         144\n",
       "       med         135\n",
       "       small       105\n",
       "good   big          24\n",
       "       med          24\n",
       "       small        21\n",
       "unacc  small       450\n",
       "       med         392\n",
       "       big         368\n",
       "vgood  big          40\n",
       "       med          25\n",
       "Name: lug_boot, dtype: int64"
      ]
     },
     "execution_count": 39,
     "metadata": {},
     "output_type": "execute_result"
    }
   ],
   "source": [
    "df.groupby(\"value\")[\"lug_boot\"].value_counts()"
   ]
  },
  {
   "cell_type": "code",
   "execution_count": 40,
   "id": "c3ca442e",
   "metadata": {},
   "outputs": [
    {
     "data": {
      "text/plain": [
       "value  safety\n",
       "acc    high      204\n",
       "       med       180\n",
       "good   med        39\n",
       "       high       30\n",
       "unacc  low       576\n",
       "       med       357\n",
       "       high      277\n",
       "vgood  high       65\n",
       "Name: safety, dtype: int64"
      ]
     },
     "execution_count": 40,
     "metadata": {},
     "output_type": "execute_result"
    }
   ],
   "source": [
    "df.groupby(\"value\")[\"safety\"].value_counts()"
   ]
  },
  {
   "cell_type": "markdown",
   "id": "43a6b1ba",
   "metadata": {},
   "source": [
    "### How many car has higher safety and accepted as acc, good & very good ?"
   ]
  },
  {
   "cell_type": "code",
   "execution_count": 41,
   "id": "fb4f6700",
   "metadata": {},
   "outputs": [
    {
     "data": {
      "text/plain": [
       "buying          299\n",
       "maintainance    299\n",
       "doors           299\n",
       "persons         299\n",
       "lug_boot        299\n",
       "safety          299\n",
       "value           299\n",
       "dtype: int64"
      ]
     },
     "execution_count": 41,
     "metadata": {},
     "output_type": "execute_result"
    }
   ],
   "source": [
    "df[(df.safety==\"high\")&((df.value==\"vgood\")|(df.value==\"good\")|(df.value==\"acc\"))].count()"
   ]
  },
  {
   "cell_type": "markdown",
   "id": "5efcbcfe",
   "metadata": {},
   "source": [
    "### How many car has higher maintainance and only accepted as acc?"
   ]
  },
  {
   "cell_type": "code",
   "execution_count": 42,
   "id": "30bac4ce",
   "metadata": {},
   "outputs": [
    {
     "data": {
      "text/plain": [
       "buying          105\n",
       "maintainance    105\n",
       "doors           105\n",
       "persons         105\n",
       "lug_boot        105\n",
       "safety          105\n",
       "value           105\n",
       "dtype: int64"
      ]
     },
     "execution_count": 42,
     "metadata": {},
     "output_type": "execute_result"
    }
   ],
   "source": [
    "df[(df.maintainance==\"high\")&(df.value==\"acc\")].count()"
   ]
  },
  {
   "cell_type": "markdown",
   "id": "e201ad88",
   "metadata": {},
   "source": [
    "### How many car has accepted as good value when buying is low & maintainace is medium & safety is high & persons can sit 4 & boot space is medium ?"
   ]
  },
  {
   "cell_type": "code",
   "execution_count": 43,
   "id": "a5dfbfb1",
   "metadata": {},
   "outputs": [
    {
     "data": {
      "text/plain": [
       "buying          2\n",
       "maintainance    2\n",
       "doors           2\n",
       "persons         2\n",
       "lug_boot        2\n",
       "safety          2\n",
       "value           2\n",
       "dtype: int64"
      ]
     },
     "execution_count": 43,
     "metadata": {},
     "output_type": "execute_result"
    }
   ],
   "source": [
    "df[(df.value==\"good\")&(df.buying==\"low\")&(df.maintainance==\"med\")&(df.safety==\"high\")&(df.persons==\"4\")&(df.lug_boot==\"med\")].count()"
   ]
  },
  {
   "cell_type": "markdown",
   "id": "e8803eed",
   "metadata": {},
   "source": [
    "### Show the data when persons can sit is more and boot space is big and buying price is low and maintainance is low"
   ]
  },
  {
   "cell_type": "code",
   "execution_count": 44,
   "id": "8ad76bfc",
   "metadata": {},
   "outputs": [
    {
     "data": {
      "text/html": [
       "<div>\n",
       "<style scoped>\n",
       "    .dataframe tbody tr th:only-of-type {\n",
       "        vertical-align: middle;\n",
       "    }\n",
       "\n",
       "    .dataframe tbody tr th {\n",
       "        vertical-align: top;\n",
       "    }\n",
       "\n",
       "    .dataframe thead th {\n",
       "        text-align: right;\n",
       "    }\n",
       "</style>\n",
       "<table border=\"1\" class=\"dataframe\">\n",
       "  <thead>\n",
       "    <tr style=\"text-align: right;\">\n",
       "      <th></th>\n",
       "      <th>buying</th>\n",
       "      <th>maintainance</th>\n",
       "      <th>doors</th>\n",
       "      <th>persons</th>\n",
       "      <th>lug_boot</th>\n",
       "      <th>safety</th>\n",
       "      <th>value</th>\n",
       "    </tr>\n",
       "    <tr>\n",
       "      <th>sr_no</th>\n",
       "      <th></th>\n",
       "      <th></th>\n",
       "      <th></th>\n",
       "      <th></th>\n",
       "      <th></th>\n",
       "      <th></th>\n",
       "      <th></th>\n",
       "    </tr>\n",
       "  </thead>\n",
       "  <tbody>\n",
       "    <tr>\n",
       "      <th>1645</th>\n",
       "      <td>low</td>\n",
       "      <td>low</td>\n",
       "      <td>2</td>\n",
       "      <td>more</td>\n",
       "      <td>big</td>\n",
       "      <td>low</td>\n",
       "      <td>unacc</td>\n",
       "    </tr>\n",
       "    <tr>\n",
       "      <th>1646</th>\n",
       "      <td>low</td>\n",
       "      <td>low</td>\n",
       "      <td>2</td>\n",
       "      <td>more</td>\n",
       "      <td>big</td>\n",
       "      <td>med</td>\n",
       "      <td>good</td>\n",
       "    </tr>\n",
       "    <tr>\n",
       "      <th>1647</th>\n",
       "      <td>low</td>\n",
       "      <td>low</td>\n",
       "      <td>2</td>\n",
       "      <td>more</td>\n",
       "      <td>big</td>\n",
       "      <td>high</td>\n",
       "      <td>vgood</td>\n",
       "    </tr>\n",
       "    <tr>\n",
       "      <th>1672</th>\n",
       "      <td>low</td>\n",
       "      <td>low</td>\n",
       "      <td>3</td>\n",
       "      <td>more</td>\n",
       "      <td>big</td>\n",
       "      <td>low</td>\n",
       "      <td>unacc</td>\n",
       "    </tr>\n",
       "    <tr>\n",
       "      <th>1673</th>\n",
       "      <td>low</td>\n",
       "      <td>low</td>\n",
       "      <td>3</td>\n",
       "      <td>more</td>\n",
       "      <td>big</td>\n",
       "      <td>med</td>\n",
       "      <td>good</td>\n",
       "    </tr>\n",
       "    <tr>\n",
       "      <th>1674</th>\n",
       "      <td>low</td>\n",
       "      <td>low</td>\n",
       "      <td>3</td>\n",
       "      <td>more</td>\n",
       "      <td>big</td>\n",
       "      <td>high</td>\n",
       "      <td>vgood</td>\n",
       "    </tr>\n",
       "    <tr>\n",
       "      <th>1699</th>\n",
       "      <td>low</td>\n",
       "      <td>low</td>\n",
       "      <td>4</td>\n",
       "      <td>more</td>\n",
       "      <td>big</td>\n",
       "      <td>low</td>\n",
       "      <td>unacc</td>\n",
       "    </tr>\n",
       "    <tr>\n",
       "      <th>1700</th>\n",
       "      <td>low</td>\n",
       "      <td>low</td>\n",
       "      <td>4</td>\n",
       "      <td>more</td>\n",
       "      <td>big</td>\n",
       "      <td>med</td>\n",
       "      <td>good</td>\n",
       "    </tr>\n",
       "    <tr>\n",
       "      <th>1701</th>\n",
       "      <td>low</td>\n",
       "      <td>low</td>\n",
       "      <td>4</td>\n",
       "      <td>more</td>\n",
       "      <td>big</td>\n",
       "      <td>high</td>\n",
       "      <td>vgood</td>\n",
       "    </tr>\n",
       "    <tr>\n",
       "      <th>1726</th>\n",
       "      <td>low</td>\n",
       "      <td>low</td>\n",
       "      <td>5more</td>\n",
       "      <td>more</td>\n",
       "      <td>big</td>\n",
       "      <td>low</td>\n",
       "      <td>unacc</td>\n",
       "    </tr>\n",
       "    <tr>\n",
       "      <th>1727</th>\n",
       "      <td>low</td>\n",
       "      <td>low</td>\n",
       "      <td>5more</td>\n",
       "      <td>more</td>\n",
       "      <td>big</td>\n",
       "      <td>med</td>\n",
       "      <td>good</td>\n",
       "    </tr>\n",
       "    <tr>\n",
       "      <th>1728</th>\n",
       "      <td>low</td>\n",
       "      <td>low</td>\n",
       "      <td>5more</td>\n",
       "      <td>more</td>\n",
       "      <td>big</td>\n",
       "      <td>high</td>\n",
       "      <td>vgood</td>\n",
       "    </tr>\n",
       "  </tbody>\n",
       "</table>\n",
       "</div>"
      ],
      "text/plain": [
       "      buying maintainance  doors persons lug_boot safety  value\n",
       "sr_no                                                          \n",
       "1645     low          low      2    more      big    low  unacc\n",
       "1646     low          low      2    more      big    med   good\n",
       "1647     low          low      2    more      big   high  vgood\n",
       "1672     low          low      3    more      big    low  unacc\n",
       "1673     low          low      3    more      big    med   good\n",
       "1674     low          low      3    more      big   high  vgood\n",
       "1699     low          low      4    more      big    low  unacc\n",
       "1700     low          low      4    more      big    med   good\n",
       "1701     low          low      4    more      big   high  vgood\n",
       "1726     low          low  5more    more      big    low  unacc\n",
       "1727     low          low  5more    more      big    med   good\n",
       "1728     low          low  5more    more      big   high  vgood"
      ]
     },
     "execution_count": 44,
     "metadata": {},
     "output_type": "execute_result"
    }
   ],
   "source": [
    "df[(df.persons==\"more\")&(df.lug_boot==\"big\")&(df.buying==\"low\")&(df.maintainance==\"low\")]"
   ]
  },
  {
   "cell_type": "code",
   "execution_count": 45,
   "id": "d43f5308",
   "metadata": {},
   "outputs": [
    {
     "data": {
      "image/png": "[encoded data removed]",
      "text/plain": [
       "<Figure size 432x288 with 1 Axes>"
      ]
     },
     "metadata": {
      "needs_background": "light"
     },
     "output_type": "display_data"
    }
   ],
   "source": [
    "#  graph of value when persons can sit is more and boot space is big and buying price is medium and maintainance is low\n",
    "df[(df.persons==\"more\")&(df.lug_boot==\"big\")&(df.buying==\"low\")&(df.maintainance==\"low\")].value.value_counts().plot(kind=\"bar\")\n",
    "plt.show()"
   ]
  },
  {
   "cell_type": "markdown",
   "id": "b173954a",
   "metadata": {},
   "source": [
    "### Graphical representation of value with respect to all columns by using subplot"
   ]
  },
  {
   "cell_type": "code",
   "execution_count": 46,
   "id": "d80563a2",
   "metadata": {},
   "outputs": [
    {
     "data": {
      "image/png": "[encoded data removed]",
      "text/plain": [
       "<Figure size 864x720 with 6 Axes>"
      ]
     },
     "metadata": {
      "needs_background": "light"
     },
     "output_type": "display_data"
    }
   ],
   "source": [
    "fig,axes=plt.subplots(3,2,figsize=(12,10))\n",
    "sns.countplot(data=df,x=df[\"value\"],hue=df[\"buying\"],ax=axes[0,0])\n",
    "sns.countplot(data=df,x=df[\"value\"],hue=df[\"maintainance\"],ax=axes[0,1])\n",
    "sns.countplot(data=df,x=df[\"value\"],hue=df[\"doors\"],ax=axes[1,0])\n",
    "sns.countplot(data=df,x=df[\"value\"],hue=df[\"persons\"],ax=axes[1,1])\n",
    "sns.countplot(data=df,x=df[\"value\"],hue=df[\"lug_boot\"],ax=axes[2,0])\n",
    "sns.countplot(data=df,x=df[\"value\"],hue=df[\"safety\"],ax=axes[2,1])\n",
    "\n",
    "plt.show()"
   ]
  },
  {
   "cell_type": "markdown",
   "id": "af458765",
   "metadata": {},
   "source": [
    "### Graphical representation of value and buying with respect to maintainance,doors,persons,lug_boot & safety"
   ]
  },
  {
   "cell_type": "code",
   "execution_count": 47,
   "id": "117885d9",
   "metadata": {},
   "outputs": [
    {
     "data": {
      "image/png": "[encoded data removed]",
      "text/plain": [
       "<Figure size 864x720 with 6 Axes>"
      ]
     },
     "metadata": {
      "needs_background": "light"
     },
     "output_type": "display_data"
    }
   ],
   "source": [
    "fig,axes=plt.subplots(3,2,figsize=(12,10))\n",
    "\n",
    "sns.scatterplot(data=df,x=\"value\",y=\"buying\",hue=\"maintainance\",ax=axes[0,0])\n",
    "sns.scatterplot(data=df,x=\"value\",y=\"buying\",hue=\"doors\",ax=axes[0,1])\n",
    "sns.scatterplot(data=df,x=\"value\",y=\"buying\",hue=\"persons\",ax=axes[1,0])\n",
    "sns.scatterplot(data=df,x=\"value\",y=\"buying\",hue=\"lug_boot\",ax=axes[1,1])\n",
    "sns.scatterplot(data=df,x=\"value\",y=\"buying\",hue=\"safety\",ax=axes[2,0])\n",
    "plt.show()"
   ]
  },
  {
   "cell_type": "markdown",
   "id": "e8de2238",
   "metadata": {},
   "source": [
    "### chances of acceptance when buying price is low"
   ]
  },
  {
   "cell_type": "code",
   "execution_count": 48,
   "id": "3554cd12",
   "metadata": {},
   "outputs": [
    {
     "data": {
      "text/plain": [
       "buying          432\n",
       "maintainance    432\n",
       "doors           432\n",
       "persons         432\n",
       "lug_boot        432\n",
       "safety          432\n",
       "value           432\n",
       "dtype: int64"
      ]
     },
     "execution_count": 48,
     "metadata": {},
     "output_type": "execute_result"
    }
   ],
   "source": [
    "df[df.buying==\"low\"].count()"
   ]
  },
  {
   "cell_type": "code",
   "execution_count": 49,
   "id": "dc509e73",
   "metadata": {},
   "outputs": [
    {
     "data": {
      "text/plain": [
       "buying          174\n",
       "maintainance    174\n",
       "doors           174\n",
       "persons         174\n",
       "lug_boot        174\n",
       "safety          174\n",
       "value           174\n",
       "dtype: int64"
      ]
     },
     "execution_count": 49,
     "metadata": {},
     "output_type": "execute_result"
    }
   ],
   "source": [
    "df[(df.buying==\"low\")&((df.value==\"acc\")|(df.value==\"good\")|(df.value==\"vgood\"))].count()"
   ]
  },
  {
   "cell_type": "code",
   "execution_count": 50,
   "id": "edf77b45",
   "metadata": {},
   "outputs": [
    {
     "data": {
      "text/plain": [
       "40.27777777777778"
      ]
     },
     "execution_count": 50,
     "metadata": {},
     "output_type": "execute_result"
    }
   ],
   "source": [
    "chances = (174/432)*100\n",
    "chances"
   ]
  },
  {
   "cell_type": "markdown",
   "id": "ee8be785",
   "metadata": {},
   "source": [
    "### chances of acceptance when safety is high"
   ]
  },
  {
   "cell_type": "code",
   "execution_count": 51,
   "id": "9e508813",
   "metadata": {},
   "outputs": [
    {
     "data": {
      "text/plain": [
       "51.90972222222222"
      ]
     },
     "execution_count": 51,
     "metadata": {},
     "output_type": "execute_result"
    }
   ],
   "source": [
    "#count of cars when safety is high - 576\n",
    "#count of cars that are accepted when there safety is high - 299\n",
    "chances1=(299/576)*100\n",
    "chances1"
   ]
  },
  {
   "cell_type": "markdown",
   "id": "cebe2eb2",
   "metadata": {},
   "source": [
    "### chances of acceptance when maintainance is low"
   ]
  },
  {
   "cell_type": "code",
   "execution_count": 52,
   "id": "b96cdfe1",
   "metadata": {},
   "outputs": [
    {
     "data": {
      "text/plain": [
       "37.96296296296296"
      ]
     },
     "execution_count": 52,
     "metadata": {},
     "output_type": "execute_result"
    }
   ],
   "source": [
    "#count of cars when maintainance is low - 432\n",
    "#count of cars that are accepted when there maintainance is low - 164\n",
    "\n",
    "chances2=(164/432)*100\n",
    "chances2"
   ]
  },
  {
   "cell_type": "markdown",
   "id": "5837c2d3",
   "metadata": {},
   "source": [
    "### chances of acceptance when lug_boot is big"
   ]
  },
  {
   "cell_type": "code",
   "execution_count": 53,
   "id": "b3b2e180",
   "metadata": {},
   "outputs": [
    {
     "data": {
      "text/plain": [
       "36.11111111111111"
      ]
     },
     "execution_count": 53,
     "metadata": {},
     "output_type": "execute_result"
    }
   ],
   "source": [
    "#count of cars when lug_boot is big - 576\n",
    "#count of cars that are accepted when there lug_boot is big - 208\n",
    "chances3=(208/576)*100\n",
    "chances3"
   ]
  },
  {
   "cell_type": "markdown",
   "id": "07b1ebd4",
   "metadata": {},
   "source": [
    "### chances of acceptance when number of doors is 4"
   ]
  },
  {
   "cell_type": "code",
   "execution_count": 54,
   "id": "48427089",
   "metadata": {},
   "outputs": [
    {
     "data": {
      "text/plain": [
       "32.407407407407405"
      ]
     },
     "execution_count": 54,
     "metadata": {},
     "output_type": "execute_result"
    }
   ],
   "source": [
    "#count of cars when number of doors - 432\n",
    "#count of cars that are accepted when there number of doors - 140\n",
    "chances4=(140/432)*100\n",
    "chances4"
   ]
  },
  {
   "cell_type": "markdown",
   "id": "6ecb138b",
   "metadata": {},
   "source": [
    "### chances of acceptance when there sitting capacity is 4"
   ]
  },
  {
   "cell_type": "code",
   "execution_count": 55,
   "id": "8b0b3fb1",
   "metadata": {},
   "outputs": [
    {
     "data": {
      "text/plain": [
       "45.83333333333333"
      ]
     },
     "execution_count": 55,
     "metadata": {},
     "output_type": "execute_result"
    }
   ],
   "source": [
    "#count of cars when sitting capacity - 576\n",
    "#count of cars that are accepted when there sitting capacity - 264\n",
    "chances5=(264/576)*100\n",
    "chances5"
   ]
  },
  {
   "cell_type": "markdown",
   "id": "31dd8e74",
   "metadata": {},
   "source": [
    "# CONCLUSION"
   ]
  },
  {
   "cell_type": "markdown",
   "id": "7b88d054",
   "metadata": {},
   "source": [
    "From the above analysis\n",
    "1.Maximum number of cars are unaccepted that is 1210.\n",
    "2.Minimum number of cars are accepted(acc,good,vgood) that is 518.\n",
    "3.Maximum percentage of acceptance is depend on high value of safety that is 51.90\n",
    "4.minimum percentage of acceptance is depend on 4 value of number of doors that is 32.40\n",
    "5.Only 3.76% of cars are accepted as very good value\n",
    "6.Only 3.99% of cars are accepted as good value\n",
    "7.and 22.22% of cars are accepted as acc value"
   ]
  },
  {
   "cell_type": "markdown",
   "id": "88676c73",
   "metadata": {},
   "source": [
    "# Result"
   ]
  },
  {
   "cell_type": "markdown",
   "id": "5386478e",
   "metadata": {},
   "source": [
    "Car acceptance chances is high when buying price is low,maitainance is low,number of doors are 4,sitting capacity is 4,boot space is big & most important safety is high"
   ]
  },
  {
   "cell_type": "markdown",
   "id": "21133a97",
   "metadata": {},
   "source": [
    "### Thank You"
   ]
  }
 ],
 "metadata": {
  "kernelspec": {
   "display_name": "Python 3",
   "language": "python",
   "name": "python3"
  },
  "language_info": {
   "codemirror_mode": {
    "name": "ipython",
    "version": 3
   },
   "file_extension": ".py",
   "mimetype": "text/x-python",
   "name": "python",
   "nbconvert_exporter": "python",
   "pygments_lexer": "ipython3",
   "version": "3.8.8"
  }
 },
 "nbformat": 4,
 "nbformat_minor": 5
}
